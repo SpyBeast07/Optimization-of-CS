{
 "cells": [
  {
   "cell_type": "markdown",
   "metadata": {},
   "source": [
    "**Peak and off-peak pricing**\n",
    "\n",
    "Peak and off-peak pricing and planning problems are common place for firms with capacity constrained production processes. Usually the firm has invested in capacity in order to target a primary market. However there may exist a secondary market in which the firm can often sell its product. Once the capital has been purchased to service the firm’s primary market, the capital is freely available (up to capacity) to be used in the secondary market. Typical examples include: schools and universities who\n",
    "build to meet day-time needs (peak), but may offer night-school classes (off-peak); theatres who offer shows in the evening (peak) and matinees (off-peak); or trucking companies who have dedicated routes but may choose to enter ”back-haul” markets. Since the capacity price is a factor in the profit maximizing decision for the peak market and is already paid, it normally, should not be a factor in calculating optimal price and quantity for the smaller, off-peak market. However, if the secondary market’s demand is close to the same size as the primary market, capacity constraints may be an issue, especially given that it is common practice to price discriminate and charge lower prices in off-peak periods. Even though the secondary market is smaller than the primary, it is possible at the lower (profit maximizing) price that off-peak demand exceeds capacity.\n",
    "\n",
    "Consider a profit maximizing Company who faces two demand curves\n",
    "P1 = D1(Q1) in the day time (peak period)\n",
    "P2 = D2(Q2) in the night time (off-peak period)\n",
    "\n",
    "To operate the firm must pay b per unit of output, whether it is day or night. Furthermore, the firm must purchase capacity at a cost of c per unit of output. Let K denote total capacity measured in units of Q. The firm must pay for capacity, regardless if it operates in the off peak period. Question: Who should be charged for the capacity costs? Peak, off-peak, or both sets of customers?\n",
    "\n",
    "The firm’s maximization problem becomes\n",
    "Maximize: P1Q1 + P2Q2 − b(Q1 − Q2) − cK\n",
    "\n",
    "Suppose the demand during peak hours is\n",
    "x = 22 − 10−5Q1\n",
    "and during off-peak hours is\n",
    "P2 = 18 − 10−5Q2\n",
    "\n",
    "To produce a unit of output per half-day requires a unit of capacity costing 8 cents per day. The cost of a unit of capacity is the same whether it is used at peak times only or off-peak also. In addition to the costs of capacity, it costs 6 cents in operating costs (labour and fuel) to produce 1 unit per half day (both day and evening)"
   ]
  },
  {
   "cell_type": "code",
   "execution_count": 1,
   "metadata": {},
   "outputs": [
    {
     "name": "stdout",
     "output_type": "stream",
     "text": [
      "Optimal Prices (P1, P2): [11.02999991  8.96999869]\n",
      "Optimal Profit: 20188179.919999827\n"
     ]
    }
   ],
   "source": [
    "from scipy.optimize import minimize\n",
    "\n",
    "# Define the objective function\n",
    "def objective_function(x):\n",
    "    P1, P2 = x\n",
    "    return -1 * (10**5 * (22*P1 - P1**2 + 18*P2 - P2**2) - 10**5*0.06*(4 - P1 + P2) - 0.08)\n",
    "\n",
    "# Define the initial guess for P1 and P2\n",
    "initial_guess = [10, 10]\n",
    "\n",
    "# Define the bounds for P1 and P2\n",
    "bounds = [(0, 22), (0, 18)]  # Prices cannot be negative and cannot exceed 22 and 18 respectively\n",
    "\n",
    "# Perform the optimization\n",
    "result = minimize(objective_function, initial_guess, bounds=bounds)\n",
    "\n",
    "# Extract the optimal prices\n",
    "optimal_prices = result.x\n",
    "\n",
    "# Calculate the optimal profit\n",
    "optimal_profit = -1 * result.fun\n",
    "\n",
    "print(\"Optimal Prices (P1, P2):\", optimal_prices)\n",
    "print(\"Optimal Profit:\", optimal_profit)"
   ]
  },
  {
   "cell_type": "code",
   "execution_count": 4,
   "metadata": {},
   "outputs": [
    {
     "name": "stdout",
     "output_type": "stream",
     "text": [
      "20187819.920000006\n"
     ]
    }
   ],
   "source": [
    "x = 11.03\n",
    "y = 9.03\n",
    "func = '(10**5 * (22*x - x**2 + 18*y - y**2) - 10**5*0.06*(4 - x + y) - 0.08)'\n",
    "result = eval(func)\n",
    "print(result)"
   ]
  },
  {
   "cell_type": "code",
   "execution_count": 5,
   "metadata": {},
   "outputs": [
    {
     "name": "stdout",
     "output_type": "stream",
     "text": [
      "2206000.0 - 200000*x\n",
      "1794000.0 - 200000*y\n"
     ]
    }
   ],
   "source": [
    "from sympy import *\n",
    "\n",
    "def derivate2(expr, s):\n",
    "    x, y = symbols('x y')\n",
    "    # expr = x**2 + 2 * y + y**3\n",
    "    expr_diff = Derivative(expr, s)\n",
    "    # print(\"Value of the derivative : {}\".format(expr_diff.doit()))\n",
    "    return expr_diff.doit()\n",
    "\n",
    "expr = '((10**5 * (22*x - x**2 + 18*y - y**2)) - (10**5*0.06*(4 - x + y)) - 0.08)'\n",
    "f1 = derivate2(expr,  symbols('x'))\n",
    "f2 = derivate2(expr,  symbols('y'))\n",
    "\n",
    "print(f1)\n",
    "print(f2)"
   ]
  }
 ],
 "metadata": {
  "kernelspec": {
   "display_name": "Python 3",
   "language": "python",
   "name": "python3"
  },
  "language_info": {
   "codemirror_mode": {
    "name": "ipython",
    "version": 3
   },
   "file_extension": ".py",
   "mimetype": "text/x-python",
   "name": "python",
   "nbconvert_exporter": "python",
   "pygments_lexer": "ipython3",
   "version": "3.10.12"
  }
 },
 "nbformat": 4,
 "nbformat_minor": 2
}
