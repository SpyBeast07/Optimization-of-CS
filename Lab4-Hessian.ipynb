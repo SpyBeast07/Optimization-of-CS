{
 "cells": [
  {
   "cell_type": "markdown",
   "metadata": {},
   "source": [
    "# Lab 4"
   ]
  },
  {
   "cell_type": "code",
   "execution_count": 1,
   "metadata": {},
   "outputs": [
    {
     "name": "stdout",
     "output_type": "stream",
     "text": [
      "Optimal values: [0.5 0.5]\n",
      "Optimal objective function value: 0.5\n",
      "\n",
      "Hessian Matrix:\n",
      "[[2 0]\n",
      " [0 2]]\n"
     ]
    }
   ],
   "source": [
    "from scipy.optimize import minimize\n",
    "import numpy as np\n",
    "\n",
    "# Define the objective function and its Hessian matrix\n",
    "def objective_function(x):\n",
    "    return x[0]**2 + x[1]**2\n",
    "\n",
    "def hessian_matrix(x):\n",
    "    return np.array([[2, 0], [0, 2]])\n",
    "\n",
    "# Define constraints (if any)\n",
    "constraints = ({'type': 'eq', 'fun': lambda x: x[0] + x[1] - 1})\n",
    "\n",
    "# Define an initial guess\n",
    "initial_guess = [0.5, 0.5]\n",
    "\n",
    "# Perform optimization\n",
    "result = minimize(objective_function, initial_guess, constraints=constraints)\n",
    "\n",
    "# Display the result\n",
    "print(\"Optimal values:\", result.x)\n",
    "print(\"Optimal objective function value:\", result.fun)\n",
    "\n",
    "# Calculate and print the Hessian matrix\n",
    "hessian_matrix_result = hessian_matrix(result.x)\n",
    "print(\"\\nHessian Matrix:\")\n",
    "print(hessian_matrix_result)"
   ]
  },
  {
   "cell_type": "code",
   "execution_count": 2,
   "metadata": {},
   "outputs": [
    {
     "data": {
      "text/latex": [
       "$\\displaystyle \\left[\\begin{matrix}2 & 0\\\\0 & 6 x_{2}\\end{matrix}\\right]$"
      ],
      "text/plain": [
       "Matrix([\n",
       "[2,    0],\n",
       "[0, 6*x2]])"
      ]
     },
     "execution_count": 2,
     "metadata": {},
     "output_type": "execute_result"
    }
   ],
   "source": [
    "from sympy import *\n",
    "\n",
    "x1, x2 = symbols('x1, x2')\n",
    "theta = Symbol(\"theta\")\n",
    "\n",
    "# Define the function\n",
    "f = x1**2 + 2 * x2 + x2**3\n",
    "\n",
    "# Calculate the Hessian matrix of f at x = [x1, x2]\n",
    "H = hessian(f, [x1, x2])\n",
    "\n",
    "H"
   ]
  },
  {
   "cell_type": "code",
   "execution_count": 3,
   "metadata": {},
   "outputs": [
    {
     "name": "stdout",
     "output_type": "stream",
     "text": [
      "Expression : x**2 + y**3 + 2*y\n",
      "Derivative of expression with respect to x : Derivative(x**2 + y**3 + 2*y, x)\n",
      "Value of the derivative : 2*x\n"
     ]
    }
   ],
   "source": [
    "# import sympy \n",
    "from sympy import *\n",
    "\n",
    "x, y = symbols('x y')\n",
    "expr = x**2 + 2 * y + y**3\n",
    "print(\"Expression : {}\".format(expr))\n",
    "\n",
    "# Use sympy.Derivative() method \n",
    "expr_diff = Derivative(expr, x) \n",
    "\t\n",
    "print(\"Derivative of expression with respect to x : {}\".format(expr_diff)) \n",
    "from sympy import *\n",
    "print(\"Value of the derivative : {}\".format(expr_diff.doit()))"
   ]
  },
  {
   "cell_type": "code",
   "execution_count": 4,
   "metadata": {},
   "outputs": [
    {
     "name": "stdout",
     "output_type": "stream",
     "text": [
      "[0]\n",
      "[-sqrt(6)*I/3, sqrt(6)*I/3]\n",
      "[[2 0]\n",
      " [0 0]]\n"
     ]
    }
   ],
   "source": [
    "import sympy as sympy\n",
    "\n",
    "def derivate2(expr, s):\n",
    "    x, y = symbols('x y')\n",
    "    # expr = x**2 + 2 * y + y**3\n",
    "    expr_diff = Derivative(expr, s)\n",
    "    # print(\"Value of the derivative : {}\".format(expr_diff.doit()))\n",
    "    return expr_diff.doit()\n",
    "\n",
    "def derivate3(expr, s):\n",
    "    x, y, z = symbols('x y z')\n",
    "    # expr = x**2 + 2 * y + y**3\n",
    "    expr_diff = Derivative(expr, s)\n",
    "    # print(\"Value of the derivative : {}\".format(expr_diff.doit()))\n",
    "    return expr_diff.doit()\n",
    "\n",
    "x = (int)(input(\"Enter number of variables: \"))\n",
    "\n",
    "if (x == 2):\n",
    "    x, y = symbols('x y')\n",
    "    expr = input(\"Enter equation: (x**2 + 2 * y + y**3)\")\n",
    "    # f1 = Derivative(expr, x)\n",
    "    f1 = derivate2(expr,  symbols('x'))\n",
    "    f2 = derivate2(expr,  symbols('y'))\n",
    "\n",
    "    a = sympy.solve(f1)\n",
    "    b = sympy.solve(f2)\n",
    "    print(a)\n",
    "    print(b)\n",
    "\n",
    "    h11 = derivate2(f1,  symbols('x'))\n",
    "    h12 = derivate2(f1,  symbols('y'))\n",
    "    h21 = derivate2(f2,  symbols('x'))\n",
    "    h22 = derivate2(f2,  symbols('y'))\n",
    "\n",
    "    Hess = np.matrix([[h11.subs({x: 0, y: 0}), h12.subs({x: 0, y: 0})],\n",
    "                    [h21.subs({x: 0, y: 0}), h22.subs({x: 0, y: 0})]])\n",
    "    print(Hess)\n",
    "elif (x == 3):\n",
    "    x, y, z = symbols('x y z')\n",
    "    expr = input(\"Enter equation: (x**2 + 2 * y + y**3)\")\n",
    "    # f1 = Derivative(expr, x)\n",
    "    f1 = derivate2(expr,  symbols('x'))\n",
    "    f2 = derivate2(expr,  symbols('y'))\n",
    "    f3 = derivate2(expr,  symbols('z'))\n",
    "\n",
    "    a = sympy.solve(f1)\n",
    "    b = sympy.solve(f2)\n",
    "    c = sympy.solve(f3)\n",
    "    print(a)\n",
    "    print(b)\n",
    "    print(c)\n",
    "\n",
    "    h11 = derivate2(f1,  symbols('x'))\n",
    "    h12 = derivate2(f1,  symbols('y'))\n",
    "    h13 = derivate2(f1,  symbols('z'))\n",
    "    h21 = derivate2(f2,  symbols('x'))\n",
    "    h22 = derivate2(f2,  symbols('y'))\n",
    "    h23 = derivate2(f2,  symbols('z'))\n",
    "    h31 = derivate2(f3,  symbols('x'))\n",
    "    h32 = derivate2(f3,  symbols('y'))\n",
    "    h33 = derivate2(f3,  symbols('z'))\n",
    "\n",
    "    Hess = np.matrix([[h11.subs({x: 0, y: 0, z:0}), h12.subs({x: 0, y: 0, z:0}), h13.subs({x: 0, y: 0, z:0})],\n",
    "                        [h21.subs({x: 0, y: 0, z:0}), h22.subs({x: 0, y: 0, z:0}), h23.subs({x: 0, y: 0, z:0})],\n",
    "                        [h31.subs({x: 0, y: 0, z:0}), h32.subs({x: 0, y: 0, z:0}), h33.subs({x: 0, y: 0, z:0})]])\n",
    "    print(Hess)"
   ]
  },
  {
   "cell_type": "code",
   "execution_count": 5,
   "metadata": {},
   "outputs": [
    {
     "data": {
      "text/plain": [
       "[x, y]"
      ]
     },
     "execution_count": 5,
     "metadata": {},
     "output_type": "execute_result"
    }
   ],
   "source": [
    "from sympy.abc import x, y\n",
    "from sympy import ordered, Matrix, hessian\n",
    "\n",
    "eq = x**2/2 + 5*y**2 + 2*(x - 2)**4/3 + 8*(y + 1)**4\n",
    "\n",
    "v = list(ordered(eq.free_symbols)); v"
   ]
  },
  {
   "cell_type": "code",
   "execution_count": 6,
   "metadata": {},
   "outputs": [
    {
     "data": {
      "text/latex": [
       "$\\displaystyle \\left[\\begin{matrix}x + \\frac{8 \\left(x - 2\\right)^{3}}{3} & 10 y + 32 \\left(y + 1\\right)^{3}\\end{matrix}\\right]$"
      ],
      "text/plain": [
       "Matrix([[x + 8*(x - 2)**3/3, 10*y + 32*(y + 1)**3]])"
      ]
     },
     "execution_count": 6,
     "metadata": {},
     "output_type": "execute_result"
    }
   ],
   "source": [
    "gradient = lambda f, v: Matrix([f]).jacobian(v)\n",
    "\n",
    "gradient(eq, v)\n",
    "# Matrix([[x + 8*(x - 2)**3/3, 10*y + 32*(y + 1)**3]])"
   ]
  },
  {
   "cell_type": "code",
   "execution_count": 7,
   "metadata": {},
   "outputs": [
    {
     "data": {
      "text/latex": [
       "$\\displaystyle \\left[\\begin{matrix}8 \\left(x - 2\\right)^{2} + 1 & 0\\\\0 & 96 \\left(y + 1\\right)^{2} + 10\\end{matrix}\\right]$"
      ],
      "text/plain": [
       "Matrix([\n",
       "[8*(x - 2)**2 + 1,                  0],\n",
       "[               0, 96*(y + 1)**2 + 10]])"
      ]
     },
     "execution_count": 7,
     "metadata": {},
     "output_type": "execute_result"
    }
   ],
   "source": [
    "hessian(eq, v)\n",
    "# Matrix([\n",
    "        # [8*(x - 2)**2 + 1,                  0],\n",
    "        # [               0, 96*(y + 1)**2 + 10]])"
   ]
  },
  {
   "cell_type": "markdown",
   "metadata": {},
   "source": [
    "**Portfolio Selection**\n",
    "\n",
    "Portfolio Selection: An investor has $5000 and two potential investments. Let x j for j = 1 and j = 2 denote his allocation to investment j in thousands of dollars. From historical data, investments 1 and 2 have an expected annual return of 20 and 16 percent, respectively. Also, the total risk involved with investments 1 and 2, as measured by the variance of total return, is given by 2x12 + x22 + (x1 + x2 )2 , so that risk increases with total investment and with the amount of each individual investment. The investor would like to maximize his expected return and at the same time minimize his risk. Clearly, both of these objectives cannot, in general, be satisfied simultaneously. There are several possible approaches. For example, he can minimize risk subject to a constraint imposing a lower bound on expected return. Alternatively, expected return and risk can be combined in an objective function, to give the model:\n",
    "\n",
    "Maximize f (x) = 20x1 + 16x2 − θ [2x12 + x22 + (x1 + x2 )2 ],\n",
    "subject to:\n",
    "g1 (x) = x1 + x2 ≤ 5,\n",
    "x1 ≥ 0, x2 ≥ 0, (that is, g2 (x) = −x1, g3 (x) = −x2 ).\n",
    "\n",
    "The nonnegative constant θ reflects his tradeoff between risk and return. If θ = 0, the model is a linear program, and he will invest completely in the investment with greatest expected return. For very large θ , the objective contribution due to expected return becomes negligible and he is essentially minimizing his risk."
   ]
  },
  {
   "cell_type": "code",
   "execution_count": 8,
   "metadata": {},
   "outputs": [
    {
     "name": "stdout",
     "output_type": "stream",
     "text": [
      "Optimal allocation: [2.33333333 2.66666667]\n",
      "Optimal objective value: 46.33333333333333\n",
      "Lagrange multiplier: 19.333333333333332\n",
      "Hessian matrix:\n",
      "[[-6 -2]\n",
      " [-2 -2]]\n"
     ]
    }
   ],
   "source": [
    "# Portfolio Selection\n",
    "\n",
    "from scipy.optimize import minimize\n",
    "import numpy as np\n",
    "\n",
    "# Objective function\n",
    "def objective(x, theta):\n",
    "    return -(20*x[0] + 16*x[1] - theta*(2*x[0]**2 + x[1]**2 + (x[0] + x[1])**2))\n",
    "\n",
    "# Constraints\n",
    "def constraint(x):\n",
    "    return x[0] + x[1] - 5\n",
    "\n",
    "# Lagrange multiplier calculation\n",
    "def lagrange_multiplier(x, theta):\n",
    "    return 4*theta*x[0] + 2*theta*(x[0] + x[1])\n",
    "\n",
    "# Gradient of the objective function\n",
    "def gradient(x, theta):\n",
    "    return np.array([-40*x[0] - 4*theta*x[0] - 2*theta*(x[0] + x[1]),\n",
    "                     -32*x[1] - 2*theta*x[1] - 2*theta*(x[0] + x[1])])\n",
    "\n",
    "# Hessian matrix of the Lagrangian\n",
    "def hessian(x, theta):\n",
    "    return np.array([[-4*theta - 2*theta, -2*theta],\n",
    "                     [-2*theta, -2*theta]])\n",
    "\n",
    "# Initial guess\n",
    "x0 = [2, 3]\n",
    "theta = 1  # Choose an appropriate value for theta\n",
    "\n",
    "# Solve optimization problem\n",
    "result = minimize(lambda x: objective(x, theta), x0, constraints={'type': 'eq', 'fun': constraint})\n",
    "\n",
    "# Extract optimal values\n",
    "optimal_x = result.x\n",
    "optimal_objective = -result.fun\n",
    "\n",
    "# Calculate Lagrange multiplier\n",
    "lambda_value = lagrange_multiplier(optimal_x, theta)\n",
    "\n",
    "# Calculate Hessian matrix\n",
    "hess = hessian(optimal_x, theta)\n",
    "\n",
    "# Print results\n",
    "print(\"Optimal allocation:\", optimal_x)\n",
    "print(\"Optimal objective value:\", optimal_objective)\n",
    "print(\"Lagrange multiplier:\", lambda_value)\n",
    "print(\"Hessian matrix:\")\n",
    "print(hess)"
   ]
  },
  {
   "cell_type": "markdown",
   "metadata": {},
   "source": [
    "**Water Resources Planning**\n",
    "\n",
    "In regional water planning, sources emitting pollutants might be required to\n",
    "remove waste from the water system. Let x j be the pounds of Biological Oxygen Demand (an often-used\n",
    "measure of pollution) to be removed at source j.\n",
    "One model might be to minimize total costs to the region to meet specified pollution standards:\n",
    "\n",
    "Minimize sigma(j=1, n)[fi(xi)]\n",
    "\n",
    "subject to:\n",
    "sigma(j=1, n)[aij * xj ≥ bi]     (i = 1, 2, . . . , m)\n",
    "0 ≤ xj ≤ uj      ( j = 1, 2, . . . , n),\n",
    "\n",
    "where\n",
    "fj(xj) = Cost of removing x j pounds of Biological Oxygen Demand at source j,\n",
    "bi = Minimum desired improvement in water quality at point i in the system,\n",
    "aij = Quality response, at point i in the water system, caused by removing one pound of Biological Oxygen Demand at source j,\n",
    "uj = Maximum pounds of Biological Oxygen Demand that can be removed at source j."
   ]
  },
  {
   "cell_type": "code",
   "execution_count": 9,
   "metadata": {},
   "outputs": [
    {
     "name": "stdout",
     "output_type": "stream",
     "text": [
      "Water Resources Planning - Optimal BOD removal: [0.         0.         6.66666667]\n",
      "Water Resources Planning - Minimum total cost: 6.666666666666673\n"
     ]
    }
   ],
   "source": [
    "from scipy.optimize import minimize\n",
    "import numpy as np\n",
    "\n",
    "# Define the cost functions fj(xj) for water resources planning\n",
    "def cost_function_j1(x):\n",
    "    return x  # Define your cost function for source 1 here\n",
    "\n",
    "def cost_function_j2(x):\n",
    "    return x  # Define your cost function for source 2 here\n",
    "\n",
    "def cost_function_j3(x):\n",
    "    return x  # Define your cost function for source 3 here\n",
    "\n",
    "# Define the cost functions list\n",
    "fj = [cost_function_j1, cost_function_j2, cost_function_j3]\n",
    "\n",
    "# Define the quality response matrix aij for water resources planning\n",
    "a = np.array([\n",
    "    [1.0, 2.0, 3.0],\n",
    "    [1.0, 2.0, 3.0],\n",
    "    [1.0, 2.0, 3.0]\n",
    "])\n",
    "\n",
    "# Define the minimum desired improvement vector bi for water resources planning\n",
    "b = np.array([10.0, 15.0, 20.0])\n",
    "\n",
    "# Define the maximum pounds of BOD vector uj for water resources planning\n",
    "u = np.array([5.0, 10.0, 15.0])\n",
    "\n",
    "# Define the initial guess for water resources planning\n",
    "x0 = np.zeros(len(fj))\n",
    "\n",
    "# Define the objective function for water resources planning\n",
    "def objective(x):\n",
    "    return sum(fj[j](x[j]) for j in range(len(x)))\n",
    "\n",
    "# Define the inequality constraints for water resources planning\n",
    "def constraints(x):\n",
    "    return np.dot(a, x) - b\n",
    "\n",
    "# Define the bounds for the variables\n",
    "bounds = [(0, uj) for uj in u]\n",
    "\n",
    "# Set up the constraints in the format expected by scipy.optimize.minimize\n",
    "ineq_constraints = {'type': 'ineq', 'fun': constraints}\n",
    "\n",
    "# Solve the optimization problem for water resources planning\n",
    "result_water_resources = minimize(objective, x0, constraints=ineq_constraints, bounds=bounds)\n",
    "\n",
    "# Print the results\n",
    "print(\"Water Resources Planning - Optimal BOD removal:\", result_water_resources.x)\n",
    "print(\"Water Resources Planning - Minimum total cost:\", result_water_resources.fun)"
   ]
  }
 ],
 "metadata": {
  "kernelspec": {
   "display_name": "Python 3",
   "language": "python",
   "name": "python3"
  },
  "language_info": {
   "codemirror_mode": {
    "name": "ipython",
    "version": 3
   },
   "file_extension": ".py",
   "mimetype": "text/x-python",
   "name": "python",
   "nbconvert_exporter": "python",
   "pygments_lexer": "ipython3",
   "version": "3.10.12"
  }
 },
 "nbformat": 4,
 "nbformat_minor": 2
}
