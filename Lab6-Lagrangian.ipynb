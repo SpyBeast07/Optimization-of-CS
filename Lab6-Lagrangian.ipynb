{
 "cells": [
  {
   "cell_type": "code",
   "execution_count": 3,
   "metadata": {},
   "outputs": [
    {
     "name": "stdout",
     "output_type": "stream",
     "text": [
      "Enter data for x and y: \n",
      "Interpolated value at 12.000 is 1872.000.\n"
     ]
    }
   ],
   "source": [
    "# Lagrange Interpolation\n",
    "\n",
    "# Importing NumPy Library\n",
    "import numpy as np\n",
    "\n",
    "# Reading number of unknowns\n",
    "n = int(input('Enter number of data points: '))\n",
    "\n",
    "# Making numpy array of n & n x n size and initializing \n",
    "# to zero for storing x and y value along with differences of y\n",
    "x = np.zeros((n))\n",
    "y = np.zeros((n))\n",
    "\n",
    "\n",
    "# Reading data points\n",
    "print('Enter data for x and y: ')\n",
    "for i in range(n):\n",
    "    x[i] = float(input( 'x['+str(i)+']='))\n",
    "    y[i] = float(input( 'y['+str(i)+']='))\n",
    "\n",
    "\n",
    "# Reading interpolation point\n",
    "xp = float(input('Enter interpolation point: '))\n",
    "\n",
    "# Set interpolated value initially to zero\n",
    "yp = 0\n",
    "\n",
    "# Implementing Lagrange Interpolation\n",
    "for i in range(n):\n",
    "    \n",
    "    p = 1\n",
    "    \n",
    "    for j in range(n):\n",
    "        if i != j:\n",
    "            p = p * (xp - x[j])/(x[i] - x[j])\n",
    "    \n",
    "    yp = yp + p * y[i]    \n",
    "\n",
    "# Displaying output\n",
    "print('Interpolated value at %.3f is %.3f.' % (xp, yp))"
   ]
  },
  {
   "cell_type": "code",
   "execution_count": 8,
   "metadata": {},
   "outputs": [
    {
     "name": "stdout",
     "output_type": "stream",
     "text": [
      "δL/δx1: 2*x1 - λ - 10\n",
      "δL/δx2: 2*x2 - λ - 6\n",
      "δL/δx3: 2*x3 - λ - 4\n"
     ]
    }
   ],
   "source": [
    "from sympy import symbols, diff\n",
    "\n",
    "# Define the variables\n",
    "x1, x2, x3, λ = symbols('x1 x2 x3 λ')\n",
    "\n",
    "# Define the objective function Z\n",
    "Z = x1**2 - 10*x1 - 6*x2 + x2**2 + x3**2 - 4*x3\n",
    "\n",
    "# Define the Lagrangian function L\n",
    "L = Z - λ*(x1 + x2 + x3 - 7)\n",
    "\n",
    "# Compute the partial derivatives of L\n",
    "dL_dx1 = diff(L, x1)\n",
    "dL_dx2 = diff(L, x2)\n",
    "dL_dx3 = diff(L, x3)\n",
    "\n",
    "# Print the results\n",
    "print(\"δL/δx1:\", dL_dx1)\n",
    "print(\"δL/δx2:\", dL_dx2)\n",
    "print(\"δL/δx3:\", dL_dx3)"
   ]
  },
  {
   "cell_type": "markdown",
   "metadata": {},
   "source": [
    "Find the minimum value of the function\n",
    "𝑓(𝑥) = 3𝑥12 + 𝑥22 + 2𝑥1 𝑥2 + 6𝑥1 + 2𝑥2\n",
    "\n",
    "Subject to constraint: 2𝑥1 − 𝑥2 = 4"
   ]
  },
  {
   "cell_type": "code",
   "execution_count": 45,
   "metadata": {},
   "outputs": [
    {
     "name": "stdout",
     "output_type": "stream",
     "text": [
      "Optimal x1: 0.8181818181818183\n",
      "Optimal x2: -2.3636363636363638\n",
      "Lambda: -3.0909090909090913\n",
      "Optimal value of the function f(x): 3.909090909090911\n"
     ]
    }
   ],
   "source": [
    "from scipy.optimize import fsolve\n",
    "\n",
    "# Define the objective function and constraint equation\n",
    "def equations(vars):\n",
    "    x1, x2, lam = vars\n",
    "    eq1 = 6*x1 + 2*x2 + 6 + 2*lam\n",
    "    eq2 = 2*x2 + 2*x1 - lam\n",
    "    eq3 = 2*x1 - x2 - 4\n",
    "    return [eq1, eq2, eq3]\n",
    "\n",
    "# Solve the equations using fsolve\n",
    "x1, x2, lam = fsolve(equations, (0, 0, 0))\n",
    "\n",
    "# Calculate the value of the function at the optimal solution\n",
    "f_optimal = 3*x1**2 + x2**2 + 2*x1*x2 + 6*x1 + 2*x2\n",
    "\n",
    "# Print the optimal values and the value of the function\n",
    "print(\"Optimal x1:\", x1)\n",
    "print(\"Optimal x2:\", x2)\n",
    "print(\"Lambda:\", lam)\n",
    "print(\"Optimal value of the function f(x):\", f_optimal)"
   ]
  },
  {
   "cell_type": "markdown",
   "metadata": {},
   "source": [
    "Find the minimum value of the neutrosophic function.\n",
    "𝑓(𝑥) = {2,3,4}𝑥12 + 𝑥22 + 2𝑥1 𝑥2 + 6𝑥1 + 2𝑥2\n",
    "\n",
    "Subject to constraint: 2𝑥1 − 𝑥2 = 4"
   ]
  },
  {
   "cell_type": "code",
   "execution_count": 55,
   "metadata": {},
   "outputs": [
    {
     "name": "stdout",
     "output_type": "stream",
     "text": [
      "Optimal solutions:\n",
      "\n",
      "For x1 = 2:\n",
      "{lam: -9/5, x1: 7/10, x2: -13/5}\n",
      "f(x1*, x2*) = 31/10\n",
      "\n",
      "For x1 = 3:\n",
      "{lam: -24/11, x1: 7/11, x2: -30/11}\n",
      "f(x1*, x2*) = 39/11\n",
      "\n",
      "For x1 = 4:\n",
      "{lam: -5/2, x1: 7/12, x2: -17/6}\n",
      "f(x1*, x2*) = 47/12\n"
     ]
    }
   ],
   "source": [
    "from sympy import symbols, Eq, solve\n",
    "\n",
    "# Define the variables\n",
    "x1, x2, lam = symbols('x1 x2 lam')\n",
    "\n",
    "# Define the Lagrangian function\n",
    "L = {2: 2*x1**2 + x2**2 + 2*x1*x2 + 6*x1 + 2*x2 + lam*(2*x1 - x2 - 4),\n",
    "     3: 3*x1**2 + x2**2 + 2*x1*x2 + 6*x1 + 2*x2 + lam*(2*x1 - x2 - 4),\n",
    "     4: 4*x1**2 + x2**2 + 2*x1*x2 + 6*x1 + 2*x2 + lam*(2*x1 - x2 - 4)}\n",
    "\n",
    "# Define the constraint equation\n",
    "constraint = 2*x1 - x2 - 4\n",
    "\n",
    "print(\"Optimal solutions:\")\n",
    "\n",
    "# Define the equations based on the Lagrangian and constraint\n",
    "for val in [2, 3, 4]:\n",
    "     eq1 = Eq(L[val].diff(x1), 0)\n",
    "     eq2 = Eq(L[val].diff(x2), 0)\n",
    "     eq3 = Eq(constraint, 0)\n",
    "\n",
    "     # Solve the equations\n",
    "     sol = solve((eq1, eq2, eq3), (x1, x2, lam))\n",
    "     print(f\"\\nFor x1 = {val}:\")\n",
    "     print(sol)\n",
    "\n",
    "     # Calculate and print the value of the function at the optimal solution\n",
    "     f_val = L[val].subs([(x1, sol[x1]), (x2, sol[x2]), (lam, sol[lam])])\n",
    "     print(f\"f(x1*, x2*) = {f_val}\")"
   ]
  }
 ],
 "metadata": {
  "kernelspec": {
   "display_name": "Python 3",
   "language": "python",
   "name": "python3"
  },
  "language_info": {
   "codemirror_mode": {
    "name": "ipython",
    "version": 3
   },
   "file_extension": ".py",
   "mimetype": "text/x-python",
   "name": "python",
   "nbconvert_exporter": "python",
   "pygments_lexer": "ipython3",
   "version": "3.10.12"
  }
 },
 "nbformat": 4,
 "nbformat_minor": 2
}
