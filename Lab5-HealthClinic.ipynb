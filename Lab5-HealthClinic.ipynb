{
 "cells": [
  {
   "cell_type": "markdown",
   "metadata": {},
   "source": [
    "# Lab 5"
   ]
  },
  {
   "cell_type": "markdown",
   "metadata": {},
   "source": [
    "**Health Clinic Problem**\n",
    "\n",
    "The director of a neighborhood health clinic has an annual budget of $600,000. He wants to al- locate his budget so as to maximize the number of patient visits, V, which is given as a function of the number of doctors, D, and the number of nurses, N, by\n",
    "\n",
    "V = 1000D0.6N0.3\n",
    "\n",
    "A doctor's salary is $40,000; nurses get $10,000.\n",
    "\n",
    "(a) Set up the director's constrained optimization problem.\n",
    "(b) Describe, in words, the conditions which must be satisfied by dV/dD and dV/dN for V to have an optimum value.\n",
    "(c) Solve the problem formulated in part (a)\n",
    "(d) Find the value of the Lagrange multiplier and interpret its meaning in this problem.\n",
    "(e) At the optimum point, what is the marginal cost of a patient visit (that is, the cost of an additional visit)?"
   ]
  },
  {
   "cell_type": "code",
   "execution_count": 1,
   "metadata": {},
   "outputs": [
    {
     "name": "stdout",
     "output_type": "stream",
     "text": [
      "Optimal number of doctors: 7.500000984734364\n",
      "Optimal number of nurses: 29.999996061062543\n",
      "Optimal number of patient visits: 40499.999999999294\n",
      "Total cost of doctors: 300000.03938937455\n",
      "Total cost of nurses: 299999.96061062545\n",
      "Lagrange multiplier (lambda): 0.13499998227478144\n"
     ]
    }
   ],
   "source": [
    "from scipy.optimize import minimize\n",
    "\n",
    "# Objective function\n",
    "objective = lambda x: -1000 * (x[0]*0.6) * (x[1]*0.3)\n",
    "\n",
    "# Budget constraint\n",
    "constraint = lambda x: 40000 * x[0] + 10000 * x[1] - 600000\n",
    "\n",
    "# Gradient of the objective function\n",
    "grad_objective = lambda x: [-1000 * 0.6 * x[1]*0.3, -1000 * 0.3 * x[0]*0.6]\n",
    "\n",
    "# Gradient of the constraint function\n",
    "grad_constraint = lambda x: [40000, 10000]\n",
    "\n",
    "# Initial guess\n",
    "initial_guess = [10, 10]\n",
    "\n",
    "# Bounds\n",
    "bounds = ((0, None), (0, None))\n",
    "\n",
    "# Solve optimization problem\n",
    "result = minimize(objective, initial_guess, constraints={'type': 'eq', 'fun': constraint}, bounds=bounds)\n",
    "\n",
    "# Extract optimal values\n",
    "optimal_D, optimal_N = result.x\n",
    "optimal_V = -result.fun\n",
    "\n",
    "# Calculate costs\n",
    "cost_doctors = 40000 * optimal_D\n",
    "cost_nurses = 10000 * optimal_N\n",
    "\n",
    "# Calculate the Lagrange multiplier\n",
    "grad_f = grad_objective([optimal_D, optimal_N])\n",
    "grad_g = grad_constraint([optimal_D, optimal_N])\n",
    "lambda_value = -grad_f[0] / grad_g[0]  # Assuming both components are non-zero\n",
    "\n",
    "# Print results\n",
    "print(\"Optimal number of doctors:\", optimal_D)\n",
    "print(\"Optimal number of nurses:\", optimal_N)\n",
    "print(\"Optimal number of patient visits:\", optimal_V)\n",
    "print(\"Total cost of doctors:\", cost_doctors)\n",
    "print(\"Total cost of nurses:\", cost_nurses)\n",
    "print(\"Lagrange multiplier (lambda):\", lambda_value)"
   ]
  }
 ],
 "metadata": {
  "kernelspec": {
   "display_name": "Python 3",
   "language": "python",
   "name": "python3"
  },
  "language_info": {
   "codemirror_mode": {
    "name": "ipython",
    "version": 3
   },
   "file_extension": ".py",
   "mimetype": "text/x-python",
   "name": "python",
   "nbconvert_exporter": "python",
   "pygments_lexer": "ipython3",
   "version": "3.10.12"
  }
 },
 "nbformat": 4,
 "nbformat_minor": 2
}
