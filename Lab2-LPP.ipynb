{
 "cells": [
  {
   "cell_type": "markdown",
   "metadata": {},
   "source": [
    "# Lab 2"
   ]
  },
  {
   "cell_type": "code",
   "execution_count": 1,
   "metadata": {},
   "outputs": [
    {
     "name": "stdout",
     "output_type": "stream",
     "text": [
      "Optimal values:\n",
      "x1 (quantity of milk): 1.367 glasses/day\n",
      "x2 (quantity of salad): 0.165 portions/day\n",
      "Minimum total cost: Rs. 2.546\n"
     ]
    }
   ],
   "source": [
    "# Diet Problem\n",
    "\n",
    "from scipy.optimize import linprog\n",
    "\n",
    "# Define the objective function coefficients.\n",
    "# Z = 1.5x1 + 3.0x2\n",
    "c = [1.5, 3.0]\n",
    "\n",
    "# Define the inequality constraints matrix (A) and vector (b).\n",
    "# Each row of A represents a constraint:\n",
    "A = [[-2, -50],  # (2x1 + 50x2 >= 11)\n",
    "     [-50, -10] ]# (50x1 + 10x2 >= 70)\n",
    "b = [-11, -70]\n",
    "\n",
    "# Define the bounds for the decision variables.\n",
    "# x1 and x2 must be non-negative.\n",
    "x1_bounds = (0, None)  # x1 >= 0\n",
    "x2_bounds = (0, None)  # x2 >= 0\n",
    "\n",
    "# Use the linprog function from scipy.optimize to solve the linear programming problem.\n",
    "result = linprog(c, A_ub=A, b_ub=b, bounds=[x1_bounds, x2_bounds])\n",
    "\n",
    "# Extract the optimal values of the decision variables.\n",
    "optimal_x1 = result.x[0]\n",
    "optimal_x2 = result.x[1]\n",
    "# Extract the minimum cost from the result.\n",
    "min_cost = result.fun\n",
    "\n",
    "# Print the optimal values and the minimum cost.\n",
    "print(\"Optimal values:\")\n",
    "print(f\"x1 (quantity of milk): {optimal_x1:.3f} glasses/day\")\n",
    "print(f\"x2 (quantity of salad): {optimal_x2:.3f} portions/day\")\n",
    "print(f\"Minimum total cost: Rs. {min_cost:.3f}\")"
   ]
  },
  {
   "cell_type": "code",
   "execution_count": 3,
   "metadata": {},
   "outputs": [
    {
     "name": "stdout",
     "output_type": "stream",
     "text": [
      "Maximum QALY: 20.500\n"
     ]
    }
   ],
   "source": [
    "# Health Care Resource Allocation\n",
    "\n",
    "from scipy.optimize import linprog\n",
    "\n",
    "# Define the objective function coefficients.\n",
    "# Z = 10x1 + 15x2 + 15x3 + 13x4 + 9x5\n",
    "# Since linprog minimizes by default, we use negative coefficients to maximize.\n",
    "c = [-10, -15, -15, -13, -9]\n",
    "\n",
    "# Define the inequality constraints matrix (A) and vector (b).\n",
    "# Each row of A represents a constraint:\n",
    "A = [[100, 50, 50, 40, 120],  # (100x1 + 50x2 + 50x3 + 40x4 + 120x5 <= 300)\n",
    "     [40, 50, 50, 15, 30] ]# (40x1 + 50x2 + 50x3 + 15x4 + 30x5 <= 40)\n",
    "b = [300, 40]\n",
    "\n",
    "# Define the bounds for the decision variables.\n",
    "# 0 <= x1 <= 1, 0 <= x2 <= 1, 0 <= x3 <= 1, 0 <= x4 <= 1, 0 <= x5 <= 1\n",
    "x_bounds = [(0, 1) for _ in range(5)]\n",
    "\n",
    "# Use the linprog function from scipy.optimize to solve the linear programming problem.\n",
    "result = linprog(c, A_ub=A, b_ub=b, bounds=x_bounds)\n",
    "\n",
    "# Extract the maximum QALY from the result.\n",
    "# Since we used negative coefficients to maximize, we need to negate the result.\n",
    "max_cost = -result.fun\n",
    "\n",
    "# Print the maximum QALY.\n",
    "print(f\"Maximum QALY: {max_cost:.3f}\")"
   ]
  }
 ],
 "metadata": {
  "kernelspec": {
   "display_name": "Python 3",
   "language": "python",
   "name": "python3"
  },
  "language_info": {
   "codemirror_mode": {
    "name": "ipython",
    "version": 3
   },
   "file_extension": ".py",
   "mimetype": "text/x-python",
   "name": "python",
   "nbconvert_exporter": "python",
   "pygments_lexer": "ipython3",
   "version": "3.10.12"
  }
 },
 "nbformat": 4,
 "nbformat_minor": 2
}
